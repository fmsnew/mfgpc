{
 "cells": [
  {
   "cell_type": "code",
   "execution_count": null,
   "metadata": {},
   "outputs": [],
   "source": [
    "%load_ext autoreload"
   ]
  },
  {
   "cell_type": "code",
   "execution_count": null,
   "metadata": {},
   "outputs": [],
   "source": [
    "import matplotlib.pyplot as plt\n",
    "import matplotlib.cm as cm\n",
    "from tqdm import tqdm\n",
    "import numpy as np\n",
    "import pandas as pd\n",
    "import seaborn as sns\n",
    "from matplotlib.backends.backend_pdf import PdfPages\n",
    "from sklearn.gaussian_process import GaussianProcessClassifier\n",
    "from sklearn.gaussian_process.kernels import RBF\n",
    "from sklearn.gaussian_process.kernels import ConstantKernel\n",
    "\n",
    "from sklearn.linear_model import LogisticRegression\n",
    "from sklearn.svm import SVC\n",
    "from sklearn.ensemble import RandomForestClassifier\n",
    "from xgboost import XGBClassifier\n",
    "from sklearn.neighbors import KNeighborsClassifier\n",
    "\n",
    "from sklearn.model_selection import GridSearchCV\n",
    "from sklearn.metrics import roc_auc_score, accuracy_score, f1_score\n",
    "from sklearn.metrics import make_scorer\n",
    "from sklearn.model_selection import train_test_split\n",
    "from sklearn.preprocessing import label_binarize, OneHotEncoder\n",
    "\n",
    "from sklearn.pipeline import make_pipeline\n",
    "from sklearn.preprocessing import StandardScaler\n",
    "\n",
    "import pickle"
   ]
  },
  {
   "cell_type": "code",
   "execution_count": null,
   "metadata": {},
   "outputs": [],
   "source": [
    "import warnings\n",
    "#warnings.filterwarnings('error', category=UserWarning)\n",
    "warnings.filterwarnings('ignore')"
   ]
  },
  {
   "cell_type": "code",
   "execution_count": null,
   "metadata": {},
   "outputs": [],
   "source": [
    "sns.set_style(\"whitegrid\")"
   ]
  },
  {
   "cell_type": "code",
   "execution_count": null,
   "metadata": {},
   "outputs": [],
   "source": [
    "%autoreload\n",
    "import utils_2019\n",
    "import mfgpc_opt as mfgpc\n",
    "from utilities_new import SSMF, MajorClassClassifier, safe_roc_auc_score, get_binary_dataset\n",
    "import utils_hetmogp"
   ]
  },
  {
   "cell_type": "code",
   "execution_count": null,
   "metadata": {},
   "outputs": [],
   "source": [
    "from pmlb import fetch_data"
   ]
  },
  {
   "cell_type": "code",
   "execution_count": null,
   "metadata": {},
   "outputs": [],
   "source": [
    "scoring = {'ROCAUC': lambda clf, X, y: safe_roc_auc_score(y, clf.predict_proba(X)[:, 1]), \n",
    "           'Accuracy': lambda clf, X, y: accuracy_score(y, clf.predict(X))}"
   ]
  },
  {
   "cell_type": "code",
   "execution_count": null,
   "metadata": {},
   "outputs": [],
   "source": [
    "method_modes_to_plot = [('xgb', 'stacking'), ('xgb', 'concatenation'), ('xgb', 'high-fidelity'),\n",
    "                       ('ss_gpc', 'stacking'), ('ss_gpc', 'concatenation'), ('ss_gpc', 'high-fidelity'),\n",
    "                       ('ss_logit', 'stacking'), ('ss_logit', 'concatenation'), ('ss_logit', 'high-fidelity'),\n",
    "                       ('major_vote', 'high-fidelity'), ('ss_mf_gpc', 'multi-fidelity'),\n",
    "                       ('hetmogp', 'multi-fidelity')]"
   ]
  },
  {
   "cell_type": "markdown",
   "metadata": {},
   "source": [
    "# artificial"
   ]
  },
  {
   "cell_type": "code",
   "execution_count": null,
   "metadata": {},
   "outputs": [],
   "source": [
    "sets_per_dim = 10\n",
    "dims = np.array([2]*sets_per_dim + [5]*sets_per_dim + [10]*sets_per_dim + [20]*sets_per_dim)"
   ]
  },
  {
   "cell_type": "code",
   "execution_count": null,
   "metadata": {},
   "outputs": [],
   "source": [
    "all_dm_df = pd.DataFrame()\n",
    "for target_noise in [0.2, 0.4]:\n",
    "    for target_hf in [75]:\n",
    "        dm_df = pd.DataFrame()\n",
    "        for ID in range(0, 40):\n",
    "            sub_dm_df = utils_2019.get_sub_dm_df(\n",
    "                                'loggers/artifitial_baselines/2019_df_' + str(ID) + '_basic.csv',\n",
    "                                {'noise':target_noise, 'hf':target_hf}, \n",
    "                                method_modes_to_plot)\n",
    "            sub_dm_df_hetmogp = utils_2019.get_sub_dm_df(\n",
    "                                'loggers/artifitial_baselines/2019_df_' + str(ID) + '_hetmogp.csv',\n",
    "                                {'noise':target_noise, 'hf':target_hf}, \n",
    "                                method_modes_to_plot)\n",
    "            sub_dm_df = sub_dm_df.join(sub_dm_df_hetmogp)\n",
    "            sub_dm_df[('tag', )] = 'artifitial_' + str(dims[ID]) + 'D'\n",
    "            dm_df = dm_df.append(sub_dm_df, ignore_index=True)\n",
    "            \n",
    "        dm_df.columns = [':'.join(x) for x in dm_df.columns.values]\n",
    "\n",
    "        dmz, accs, num_solvers = utils_2019.make_roc_auc_profile(dm_df[dm_df.columns.drop('tag')])\n",
    "\n",
    "        print(target_hf, target_noise)\n",
    "        \n",
    "#         utils_2019.plot_roc_auc_profile(dm_df, dmz, accs, num_solvers,\n",
    "#                              title='artificial datasets \\n noise=' + str(target_noise) + ' hf_points=' + str(target_hf),\n",
    "#                              plot_legend=True)\n",
    "        pp = PdfPages('figures/artifitial_ROCAUCprofile_hf_'+str(target_hf)+'_noise_'+str(target_noise)+'.pdf')\n",
    "        utils_2019.plot_roc_auc_profile(dm_df, dmz, accs, num_solvers, title='', plot_legend=False)\n",
    "        pp.savefig(bbox_inches='tight')\n",
    "        pp.close()\n",
    "        \n",
    "    t = 1 - dm_df.groupby('tag').mean().transpose()\n",
    "    t.index = pd.MultiIndex.from_tuples(zip([target_noise]*len(t.index), t.index.values.tolist()))\n",
    "    all_dm_df = all_dm_df.append(t)"
   ]
  },
  {
   "cell_type": "code",
   "execution_count": null,
   "metadata": {},
   "outputs": [],
   "source": [
    "map_methods = {\n",
    "    'major_vote:high-fidelity':'major vote',\n",
    "    'ss_gpc:concatenation':'\\\\concMF{} \\\\gpc{}',\n",
    "    'ss_gpc:high-fidelity':'\\\\gpc{}',\n",
    "    'ss_gpc:stacking':'\\\\stackedMF{} \\\\gpc{}',\n",
    "    'ss_logit:concatenation':'\\\\concMF{} \\\\logit{}',\n",
    "    'ss_logit:high-fidelity':'\\\\logit{}',\n",
    "    'ss_logit:stacking':'\\\\stackedMF{} \\\\logit{}',\n",
    "    'ss_mf_gpc:multi-fidelity': '\\\\mfgpc{}',\n",
    "    'xgb:concatenation':'\\\\concMF{} \\\\xgb{}',\n",
    "    'xgb:high-fidelity':'\\\\xgb{}',\n",
    "    'xgb:stacking':'\\\\stackedMF{} \\\\xgb{}',\n",
    "    'hetmogp:multi-fidelity':'\\\\hetmogp{}',\n",
    "    'GPMA':'\\\\gpma{}'\n",
    "}"
   ]
  },
  {
   "cell_type": "code",
   "execution_count": null,
   "metadata": {},
   "outputs": [],
   "source": [
    "methods_order = [\n",
    "    'ss_mf_gpc:multi-fidelity',\n",
    "    'ss_gpc:high-fidelity',\n",
    "    'ss_logit:high-fidelity',\n",
    "    'xgb:high-fidelity',\n",
    "    'ss_gpc:concatenation',\n",
    "    'ss_logit:concatenation',\n",
    "    'xgb:concatenation',\n",
    "    'ss_gpc:stacking',\n",
    "    'ss_logit:stacking',\n",
    "    'xgb:stacking',\n",
    "    'hetmogp:multi-fidelity',\n",
    "    'GPMA'\n",
    "]\n"
   ]
  },
  {
   "cell_type": "code",
   "execution_count": null,
   "metadata": {},
   "outputs": [],
   "source": [
    "margin = 0.01\n",
    "cols = ['artifitial_2D', 'artifitial_5D', 'artifitial_10D', 'artifitial_20D']\n",
    "for method in methods_order:\n",
    "    if method in all_dm_df.index.levels[1]:\n",
    "        print(map_methods[method] + ' & ', end='')\n",
    "        row = []\n",
    "        best_results = []\n",
    "        for i, t in enumerate(all_dm_df.index.levels[0]):\n",
    "            r = all_dm_df.loc[(t, method)]\n",
    "            row.extend(r[cols].values.tolist())\n",
    "            best_results.extend(all_dm_df.loc[t].max(axis=0)[cols].values.tolist())\n",
    "        row = np.array(row)\n",
    "        for i in range(len(row)):\n",
    "            end = ' & ' if i < len(row) - 1 else ' \\\\\\\\\\n'\n",
    "            if row[i] < best_results[i] * (1 - margin):\n",
    "                print('%.3f'%row[i], end = end)\n",
    "            else:\n",
    "                print('$\\mathbf{%.3f}$'%row[i], end = end)\n"
   ]
  },
  {
   "cell_type": "markdown",
   "metadata": {},
   "source": [
    "# real"
   ]
  },
  {
   "cell_type": "code",
   "execution_count": null,
   "metadata": {},
   "outputs": [],
   "source": [
    "aliases = ['diabetes', 'german', 'satimage-1', 'mushroom', 'splice', 'spambase', 'hypothyroid', 'waveform-40']"
   ]
  },
  {
   "cell_type": "code",
   "execution_count": null,
   "metadata": {},
   "outputs": [],
   "source": [
    "all_dm_df = pd.DataFrame()\n",
    "for target_noise in [0.2, 0.4]:\n",
    "    for target_hf in [75]:\n",
    "        dm_df = pd.DataFrame()\n",
    "        for ID in range(len(aliases)):\n",
    "            sub_dm_df = utils_2019.get_sub_dm_df(\n",
    "                        'loggers/artifitial_baselines/2019_df_' + aliases[ID] + '_basic.csv',\n",
    "                        {'noise':target_noise, 'hf':target_hf}, \n",
    "                        method_modes_to_plot)\n",
    "            sub_dm_df_hetmogp = utils_2019.get_sub_dm_df(\n",
    "                                'loggers/artifitial_baselines/2019_df_' + aliases[ID] + '_hetmogp.csv',\n",
    "                                {'noise':target_noise, 'hf':target_hf}, \n",
    "                                method_modes_to_plot)\n",
    "            sub_dm_df = sub_dm_df.join(sub_dm_df_hetmogp)\n",
    "            sub_dm_df[('tag', )] = aliases[ID]\n",
    "            dm_df = dm_df.append(sub_dm_df, ignore_index=True)\n",
    "        dm_df.columns = [':'.join(x) for x in dm_df.columns.values]\n",
    "\n",
    "        dmz, accs, num_solvers = utils_2019.make_roc_auc_profile(dm_df[dm_df.columns.drop('tag')])\n",
    "\n",
    "        print(target_hf, target_noise)\n",
    "#         utils_2019.plot_roc_auc_profile(dm_df, dmz, accs, num_solvers,\n",
    "#                              title='real datasets \\n noise=' + str(target_noise) + ' hf_points=' + str(target_hf),\n",
    "#                              plot_legend=True)\n",
    "    \n",
    "        pp = PdfPages('figures/UCI_ROCAUCprofile_hf_'+str(target_hf)+'_noise_'+str(target_noise)+'.pdf')\n",
    "        utils_2019.plot_roc_auc_profile(dm_df, dmz, accs, num_solvers, title='', plot_legend=False)\n",
    "        pp.savefig(bbox_inches='tight')\n",
    "        pp.close()\n",
    "        \n",
    "        \n",
    "    t = 1 - dm_df.groupby('tag').mean().transpose()\n",
    "    t.index = pd.MultiIndex.from_tuples(zip([target_noise]*len(t.index), t.index.values.tolist()))\n",
    "    all_dm_df = all_dm_df.append(t)"
   ]
  },
  {
   "cell_type": "code",
   "execution_count": null,
   "metadata": {},
   "outputs": [],
   "source": [
    "map_real_datasets = {\n",
    " 'diabetes':'\\\\diabetes{}',\n",
    " 'german':'\\\\german{}',\n",
    " 'satimage-1':'\\\\satimage{}',\n",
    " 'mushroom':'\\\\mushroom{}',\n",
    " 'splice':'\\\\splice{}',\n",
    " 'spambase':'\\\\spambase{}',\n",
    " 'hypothyroid':'\\\\hypothyroid{}',\n",
    " 'waveform-40':'\\\\waveform{}'\n",
    "}"
   ]
  },
  {
   "cell_type": "code",
   "execution_count": null,
   "metadata": {},
   "outputs": [],
   "source": [
    "margin = 0.01\n",
    "\n",
    "for j, t in enumerate(all_dm_df.index.levels[0]):\n",
    "    print('\\n' + str(t) + '\\n')\n",
    "    best_results = all_dm_df.loc[t].max(axis=0)[aliases].values.tolist()\n",
    "    for method in methods_order:\n",
    "        if method in all_dm_df.index.levels[1]:\n",
    "            print(map_methods[method] + ' & ', end='')\n",
    "            r = all_dm_df.loc[(t, method)]\n",
    "            row = np.array(r[aliases].values.tolist())\n",
    "            for i in range(len(row)):\n",
    "                end = ' & ' if i < len(row) - 1 else ' \\\\\\\\\\n'\n",
    "                if row[i] < best_results[i] * (1 - margin):\n",
    "                    print('%.3f'%row[i], end = end)\n",
    "                else:\n",
    "                    print('$\\mathbf{%.3f}$'%row[i], end = end)\n"
   ]
  },
  {
   "cell_type": "markdown",
   "metadata": {},
   "source": [
    "# musicgenre"
   ]
  },
  {
   "cell_type": "code",
   "execution_count": null,
   "metadata": {},
   "outputs": [],
   "source": [
    "data = pd.read_csv('Datasets/mturk-datasets/music_genre_classification/music_genre_gold.csv', delimiter=',')"
   ]
  },
  {
   "cell_type": "code",
   "execution_count": null,
   "metadata": {},
   "outputs": [],
   "source": [
    "class_encoder = {}\n",
    "classes = data['class'].value_counts()\n",
    "for i in range(len(classes)):\n",
    "    class_encoder[classes.index[i]] = i\n",
    "class_decoder = {v:k for k, v in class_encoder.items()}"
   ]
  },
  {
   "cell_type": "code",
   "execution_count": null,
   "metadata": {},
   "outputs": [],
   "source": [
    "\n",
    "dm_df = pd.DataFrame()\n",
    "for target_genre in class_encoder.values():\n",
    "    sub_dm_df = utils_2019.get_sub_dm_df(\n",
    "                    'loggers/artifitial_baselines/2019_df_' + 'musicgenre_' + class_decoder[target_genre] + '.csv',\n",
    "                    {}, \n",
    "                    method_modes_to_plot)\n",
    "    tmp = pd.read_csv('loggers/artifitial_baselines/df_' + 'musicgenre_' + class_decoder[target_genre] + '_gpma.csv', header=None)\n",
    "    tmp[1] = tmp[1].apply(lambda x: x.strip())\n",
    "    tmp = tmp[tmp[1] == 'ROCAUC']\n",
    "    sub_dm_df[('GPMA', )] =  1 - tmp[2].iloc[len(sub_dm_df)]\n",
    "    dm_df = dm_df.append(sub_dm_df, ignore_index=True)\n",
    "    \n",
    "dm_df.columns = [':'.join(x) for x in dm_df.columns.values]\n",
    "\n",
    "dmz, accs, num_solvers = utils_2019.make_roc_auc_profile(dm_df)\n",
    "\n",
    "print(target_hf, target_noise)\n",
    "\n",
    "# utils_2019.plot_roc_auc_profile(dm_df, dmz, accs, num_solvers,\n",
    "#                      title='musicgenre',\n",
    "#                      plot_legend=True)\n",
    "pp = PdfPages('figures/musicgenre_ROCAUCprofile_hf_'+str(target_hf)+'.pdf')\n",
    "utils_2019.plot_roc_auc_profile(dm_df, dmz, accs, num_solvers, title='', plot_legend=False)\n",
    "pp.savefig(bbox_inches='tight')\n",
    "pp.close()"
   ]
  },
  {
   "cell_type": "code",
   "execution_count": null,
   "metadata": {},
   "outputs": [],
   "source": [
    "t = 1 - dm_df.mean().transpose()\n",
    "\n",
    "best_result = t.max()\n",
    "\n",
    "print('\\\\musicgenre{}', end=' & ')\n",
    "for method in methods_order:\n",
    "    if method in t.index:\n",
    "        end = ' & '\n",
    "        if t[method] < best_result * (1 - margin):\n",
    "            print('%.3f'%t[method], end = end)\n",
    "        else:\n",
    "            print('$\\mathbf{%.3f}$'%t[method], end = end)"
   ]
  },
  {
   "cell_type": "markdown",
   "metadata": {},
   "source": [
    "# sentimentpolarity"
   ]
  },
  {
   "cell_type": "code",
   "execution_count": null,
   "metadata": {},
   "outputs": [],
   "source": [
    "\n",
    "dm_df = utils_2019.get_sub_dm_df(\n",
    "    'loggers/artifitial_baselines/2019_df_sentimentpolarity.csv',\n",
    "    {}, \n",
    "    method_modes_to_plot)"
   ]
  },
  {
   "cell_type": "code",
   "execution_count": null,
   "metadata": {},
   "outputs": [],
   "source": [
    "tmp = pd.read_csv('loggers/artifitial_baselines/df_sentimentpolarity_gpma.csv', header=None)\n",
    "tmp[1] = tmp[1].apply(lambda x: x.strip())\n",
    "tmp = tmp[tmp[1] == 'ROCAUC']\n",
    "dm_df[('GPMA', )] =  1 - tmp[2].iloc[len(sub_dm_df)]"
   ]
  },
  {
   "cell_type": "code",
   "execution_count": null,
   "metadata": {},
   "outputs": [],
   "source": [
    "dm_df.columns = [':'.join(x) for x in dm_df.columns.values]\n",
    "\n",
    "dmz, accs, num_solvers = utils_2019.make_roc_auc_profile(dm_df)\n",
    "\n",
    "print(target_hf, target_noise)\n",
    "\n",
    "# utils_2019.plot_roc_auc_profile(dm_df, dmz, accs, num_solvers,\n",
    "#                      title='sentimentpolarity',\n",
    "#                      plot_legend=True)\n",
    "\n",
    "pp = PdfPages('figures/polarity_ROCAUCprofile_hf_'+str(target_hf)+'_'+'full'+'D.pdf')\n",
    "utils_2019.plot_roc_auc_profile(dm_df, dmz, accs, num_solvers, title='', plot_legend=False)\n",
    "pp.savefig(bbox_inches='tight')\n",
    "pp.close()"
   ]
  },
  {
   "cell_type": "code",
   "execution_count": null,
   "metadata": {},
   "outputs": [],
   "source": [
    "t = 1 - dm_df.mean().transpose()\n",
    "\n",
    "best_result = t.max()\n",
    "\n",
    "print('\\\\sentimentpolarity{}', end=' & ')\n",
    "for method in methods_order:\n",
    "    if method in t.index:\n",
    "        end = ' & '\n",
    "        if t[method] < best_result * (1 - margin):\n",
    "            print('%.3f'%t[method], end = end)\n",
    "        else:\n",
    "            print('$\\mathbf{%.3f}$'%t[method], end = end)"
   ]
  },
  {
   "cell_type": "code",
   "execution_count": null,
   "metadata": {},
   "outputs": [],
   "source": [
    "all_full_dfs = pd.DataFrame()\n",
    "for ID in list(range(0, 40, 5)) + list(range(1, 40, 5)):\n",
    "#for ID in range(20, 40, 5):\n",
    "#for ID in range(0, 20, 5):\n",
    "    full_dfs = pd.read_csv('loggers/artifitial_baselines/2019_df_' + str(ID) + '_budget.csv')\n",
    "    if ID % 5 == 0:\n",
    "        full_dfs_additional = pd.read_csv('loggers/artifitial_baselines/2019_df_' + str(ID) + '_budget_additional.csv')\n",
    "        all_full_dfs = all_full_dfs.append(full_dfs_additional, ignore_index=True)\n",
    "    all_full_dfs = all_full_dfs.append(full_dfs, ignore_index=True)\n",
    "    "
   ]
  },
  {
   "cell_type": "code",
   "execution_count": null,
   "metadata": {},
   "outputs": [],
   "source": [
    "x = all_full_dfs[['method', 'hf_budget_ratio', 'noise', 'lf_cost', 'ROCAUC']].groupby(['method', 'hf_budget_ratio', 'noise', 'lf_cost']).mean().reset_index()\n",
    "x.sort_values(by='hf_budget_ratio', inplace=True)"
   ]
  },
  {
   "cell_type": "code",
   "execution_count": null,
   "metadata": {},
   "outputs": [],
   "source": [
    "for lf_cost in [1, 2, 4]:\n",
    "    plt.figure()\n",
    "    pp = PdfPages('figures/artificial_budget_lf_cost_'+str(lf_cost)+'.pdf')\n",
    "    for n in [0, 0.2, 0.3, 0.4]:\n",
    "        sx = x[(x['noise'] == n)&(x['lf_cost'] == lf_cost)]\n",
    "        \n",
    "        plt.plot(sx['hf_budget_ratio'].values, sx['ROCAUC'].values, label='noise_level=%.1f' % n)\n",
    "    pp.savefig(bbox_inches='tight')\n",
    "    pp.close()\n",
    "#plt.legend()"
   ]
  },
  {
   "cell_type": "code",
   "execution_count": null,
   "metadata": {},
   "outputs": [],
   "source": [
    "gpc_dfs = pd.DataFrame()\n",
    "for ID in list(range(0, 40, 5)) + list(range(1, 40, 5)):\n",
    "    gpc_dfs = gpc_dfs.append(pd.read_csv('loggers/artifitial_baselines/2019_df_' + str(ID) + '_budget_gpc.csv'), \n",
    "                             ignore_index=True)\n",
    "\n",
    "gpc_baseline = gpc_dfs[['hf_budget_ratio', 'ROCAUC']].groupby('hf_budget_ratio').mean().reset_index()\n",
    "\n",
    "gpc_baseline = pd.DataFrame([[0., 0.5]], columns=['hf_budget_ratio', 'ROCAUC']).append(gpc_baseline)\n",
    "\n",
    "gpc_baseline"
   ]
  },
  {
   "cell_type": "code",
   "execution_count": null,
   "metadata": {},
   "outputs": [],
   "source": [
    "linestyles = ['-', '--', ':']\n",
    "for u, n in enumerate([0, 0.2, 0.3, 0.4]):\n",
    "    plt.figure()\n",
    "    pp = PdfPages('figures/artificial_budget_noise_'+str(n).replace('.', '_') +'.pdf')\n",
    "    for i, lf_cost in enumerate([1, 2, 4]):\n",
    "        sx = x[(x['noise'] == n)&(x['lf_cost'] == lf_cost)]\n",
    "        plt.plot(sx['hf_budget_ratio'].values, sx['ROCAUC'].values, label='lf_cost=%.1f' % lf_cost, \n",
    "                linestyle=linestyles[i], color='k')#, color='C' + str(u))\n",
    "        plt.plot(gpc_baseline['hf_budget_ratio'].values, gpc_baseline['ROCAUC'].values, color='r')\n",
    "    pp.savefig(bbox_inches='tight')\n",
    "    pp.close()\n",
    "#plt.legend()"
   ]
  },
  {
   "cell_type": "code",
   "execution_count": null,
   "metadata": {},
   "outputs": [],
   "source": []
  }
 ],
 "metadata": {
  "kernelspec": {
   "display_name": "Python 3",
   "language": "python",
   "name": "python3"
  },
  "language_info": {
   "codemirror_mode": {
    "name": "ipython",
    "version": 3
   },
   "file_extension": ".py",
   "mimetype": "text/x-python",
   "name": "python",
   "nbconvert_exporter": "python",
   "pygments_lexer": "ipython3",
   "version": "3.6.5"
  }
 },
 "nbformat": 4,
 "nbformat_minor": 2
}
