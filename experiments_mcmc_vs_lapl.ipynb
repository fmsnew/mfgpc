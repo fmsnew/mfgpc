{
 "cells": [
  {
   "cell_type": "code",
   "execution_count": null,
   "metadata": {},
   "outputs": [],
   "source": [
    "%load_ext autoreload"
   ]
  },
  {
   "cell_type": "code",
   "execution_count": null,
   "metadata": {},
   "outputs": [],
   "source": [
    "import GPy"
   ]
  },
  {
   "cell_type": "code",
   "execution_count": null,
   "metadata": {},
   "outputs": [],
   "source": [
    "import matplotlib.pyplot as plt\n",
    "from tqdm import tqdm\n",
    "import numpy as np\n",
    "import pandas as pd\n",
    "import seaborn as sns\n",
    "\n",
    "from sklearn.gaussian_process import GaussianProcessClassifier\n",
    "from sklearn.gaussian_process.kernels import RBF\n",
    "from sklearn.gaussian_process.kernels import ConstantKernel\n",
    "\n",
    "from sklearn.linear_model import LogisticRegression\n",
    "from sklearn.svm import SVC\n",
    "from sklearn.ensemble import RandomForestClassifier\n",
    "from xgboost import XGBClassifier\n",
    "from sklearn.neighbors import KNeighborsClassifier\n",
    "\n",
    "from sklearn.model_selection import GridSearchCV\n",
    "from sklearn.metrics import roc_auc_score, accuracy_score, f1_score\n",
    "from sklearn.metrics import make_scorer\n",
    "from sklearn.model_selection import train_test_split\n",
    "from sklearn.preprocessing import label_binarize, OneHotEncoder\n",
    "\n",
    "from sklearn.pipeline import make_pipeline\n",
    "from sklearn.preprocessing import StandardScaler\n",
    "\n",
    "import pickle"
   ]
  },
  {
   "cell_type": "code",
   "execution_count": null,
   "metadata": {},
   "outputs": [],
   "source": [
    "\n",
    "from scipy.special import expit as invlogit, logit"
   ]
  },
  {
   "cell_type": "code",
   "execution_count": null,
   "metadata": {},
   "outputs": [],
   "source": [
    "import theano.tensor as tt\n",
    "import pymc3 as pm\n",
    "import theano"
   ]
  },
  {
   "cell_type": "code",
   "execution_count": null,
   "metadata": {},
   "outputs": [],
   "source": [
    "import warnings\n",
    "warnings.filterwarnings('ignore', category=UserWarning)"
   ]
  },
  {
   "cell_type": "code",
   "execution_count": null,
   "metadata": {},
   "outputs": [],
   "source": [
    "sns.set_style(\"whitegrid\")"
   ]
  },
  {
   "cell_type": "code",
   "execution_count": null,
   "metadata": {},
   "outputs": [],
   "source": [
    "%autoreload\n",
    "import mfgpc_opt as mfgpc\n",
    "import utilities\n",
    "import my_utils\n",
    "from utilities_new import * "
   ]
  },
  {
   "cell_type": "code",
   "execution_count": null,
   "metadata": {},
   "outputs": [],
   "source": [
    "from sklearn.metrics import pairwise_distances"
   ]
  },
  {
   "cell_type": "code",
   "execution_count": null,
   "metadata": {},
   "outputs": [],
   "source": [
    "from matplotlib.backends.backend_pdf import PdfPages"
   ]
  },
  {
   "cell_type": "code",
   "execution_count": null,
   "metadata": {},
   "outputs": [],
   "source": [
    "aliases = ['diabetes', 'german', 'satimage-1', 'mushroom', 'splice', 'spambase', 'hypothyroid', 'waveform-40']"
   ]
  },
  {
   "cell_type": "code",
   "execution_count": null,
   "metadata": {},
   "outputs": [],
   "source": [
    "length_scale_bounds = (0.01, 10.0)\n",
    "constant_value_bounds = (0.1, 10.0)"
   ]
  },
  {
   "cell_type": "code",
   "execution_count": null,
   "metadata": {},
   "outputs": [],
   "source": [
    "def mcmc_predict(X0_l, y_l, X0_h, y_h, rho, f_scale_l, lengthscale_l, f_scale_d, lengthscale_d, noise=5*1e-4):\n",
    "    f = np.hstack((y_l, y_h))\n",
    "    n_l = len(X0_l)\n",
    "    n_h = len(X0_h)\n",
    "    cov_l = f_scale_l * pm.gp.cov.ExpQuad(X0_l.shape[1], lengthscale_l)\n",
    "    cov_d = f_scale_d * pm.gp.cov.ExpQuad(X0_l.shape[1], lengthscale_d)\n",
    "\n",
    "    \n",
    "    K = tt.alloc(0.0, n_l + n_h, n_l + n_h)\n",
    "    K = tt.set_subtensor(K[:n_l, :n_l], cov_l(X0_l))\n",
    "    K = tt.set_subtensor(K[n_l:n_l + n_h, n_l:n_l + n_h], rho**2 * cov_l(X0_h) + cov_d(X0_h))\n",
    "    K = tt.set_subtensor(K[:n_l, n_l:n_l + n_h], rho * cov_l(X0_l, X0_h))\n",
    "    K = tt.set_subtensor(K[n_l:n_l + n_h, :n_l], rho * cov_l(X0_h, X0_l))\n",
    "    K_noiseless = K.copy() + 1e-6 * tt.eye(n_l + n_h)\n",
    "    K = tt.inc_subtensor(K[:n_l, :n_l], noise * tt.eye(n_l))\n",
    "    K = tt.inc_subtensor(K[:, :], 1e-6 * tt.eye(n_l + n_h))\n",
    "\n",
    "    K_s = tt.alloc(0.0, n_l + n_h, len(X))\n",
    "    K_s = tt.set_subtensor(K_s[:n_l, :], rho * cov_l(X0_l, X))\n",
    "    K_s = tt.set_subtensor(K_s[n_l:n_l + n_h, :], rho**2 * cov_l(X0_h, X) + cov_d(X0_h, X))\n",
    "\n",
    "    _, trace = utilities.mcmc_mf_clf(len(X0_l), len(X0_h), K, K_noiseless, K_s, f, f_latent=None, trials=1000)\n",
    "    trace_vals = trace.get_values('f_pred')\n",
    "\n",
    "\n",
    "    return invlogit(np.mean(logit(trace_vals), axis = 0))"
   ]
  },
  {
   "cell_type": "code",
   "execution_count": null,
   "metadata": {
    "scrolled": false
   },
   "outputs": [],
   "source": [
    "hf_points = 75\n",
    "c = 0.2\n",
    "num_classes = 2\n",
    "low_fidelity_factor = 3\n",
    "length_scale_bounds = (0.01, 10.0)\n",
    "constant_value_bounds = (0.1, 10.0)\n",
    "df_id = 4\n",
    "\n",
    "i = 6\n",
    "#aliases = ['diabetes', 'german', 'satimage-1', 'mushroom', 'splice', 'spambase', 'hypothyroid', 'waveform-40']\n",
    "aliases = ['diabetes', 'satimage-1', 'mushroom', 'waveform-40']\n",
    "\n",
    "#print(aliases[i])\n",
    "for df_id in aliases:\n",
    "    X, y_gold = get_binary_dataset(df_id)\n",
    "    X = StandardScaler().fit_transform(X)\n",
    "    y = y_gold\n",
    "    y_corrupted = (y + (np.random.rand(len(y)) < c).astype(int)) % 2\n",
    "\n",
    "    alpha = hf_points/len(y)\n",
    "    r_offset = [0]\n",
    "    runs = 10\n",
    "    r = 0\n",
    "    is_y_train_good = False\n",
    "    while not is_y_train_good:\n",
    "        X_train, X_test, y_train, y_test, i_train, i_test = train_test_split_with_indices(X, y, test_size=1 - alpha, random_state=r + r_offset[0])\n",
    "        is_y_train_good = (len(set(y_train)) == num_classes)\n",
    "        if y_gold is not None:\n",
    "            y_test = y_gold[i_test]\n",
    "        if y_corrupted is not None:\n",
    "            X_train_lf, _, y_train_lf, _ = train_test_split(X, y_corrupted, test_size=1 - alpha*low_fidelity_factor, random_state=r + r_offset[0] + 1)\n",
    "            is_y_train_good &= (len(set(y_train_lf)) == num_classes)\n",
    "        r_offset[0] += 1\n",
    "\n",
    "    kernel = ConstantKernel(1, constant_value_bounds=constant_value_bounds) * RBF(0.1, length_scale_bounds=length_scale_bounds)\n",
    "    mf_gpc = mfgpc.MultiFidelityGaussianProcessClassifier(kernel = kernel, rho = 0.0, n_restarts_optimizer = 10, eval_gradient=True)\n",
    "    mf_gpc.fit(X_train_lf, y_train_lf, X_train, y_train)\n",
    "    y_mfgpc_pred = mf_gpc.predict_proba(X)[:, 1]\n",
    "\n",
    "    rho = mf_gpc.base_estimator_.rho\n",
    "    f_scale_l, lengthscale_l = np.exp(mf_gpc.base_estimator_.kernel_l_.theta)\n",
    "    f_scale_l = float(f_scale_l)\n",
    "    f_scale_d, lengthscale_d = np.exp(mf_gpc.base_estimator_.kernel_d_.theta)\n",
    "    f_scale_d = float(f_scale_d)\n",
    "\n",
    "    y_mcmc_pred = mcmc_predict(X_train_lf, y_train_lf, X_train, y_train, \n",
    "                               rho, f_scale_l, lengthscale_l, f_scale_d, lengthscale_d)\n",
    "\n",
    "    pp = PdfPages('figures/2019_mcmc_vs_lapl_'+str(df_id)+'_hf_'+str(hf_points)+'.pdf')\n",
    "\n",
    "    plt.figure(figsize = (5, 5))\n",
    "    plt.scatter(y_mcmc_pred, y_mfgpc_pred, s = 1)\n",
    "    plt.axis([-0.05, 1.05, -0.05, 1.05])\n",
    "\n",
    "    pp.savefig(bbox_inches='tight')\n",
    "    pp.close()\n",
    "\n",
    "    print('df_' + str(df_id))\n",
    "    print('mfgpc laplace ROCAUC:', roc_auc_score(y, y_mfgpc_pred))\n",
    "    print('mfgpc mcmc ROCAUC:', roc_auc_score(y, y_mcmc_pred))"
   ]
  }
 ],
 "metadata": {
  "kernelspec": {
   "display_name": "Python 3",
   "language": "python",
   "name": "python3"
  },
  "language_info": {
   "codemirror_mode": {
    "name": "ipython",
    "version": 3
   },
   "file_extension": ".py",
   "mimetype": "text/x-python",
   "name": "python",
   "nbconvert_exporter": "python",
   "pygments_lexer": "ipython3",
   "version": "3.6.5"
  }
 },
 "nbformat": 4,
 "nbformat_minor": 2
}
